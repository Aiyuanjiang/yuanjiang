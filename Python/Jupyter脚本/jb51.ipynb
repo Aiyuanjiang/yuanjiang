{
 "cells": [
  {
   "cell_type": "code",
   "execution_count": 22,
   "source": [
    "import requests\r\n",
    "from bs4 import BeautifulSoup\r\n",
    "\r\n",
    "url = \"https://www.jb51.net/list/list_88_1.htm\"\r\n",
    "headers = {\r\n",
    "    'User-Agent': 'Mozilla/5.0 (Windows NT 6.1) AppleWebKit/537.36 (KHTML, like Gecko) Chrome/51.0.2704.63 Safari/537.36'\r\n",
    "}\r\n",
    "r = requests.get(url, headers)\r\n",
    "r.encoding = 'gb18030'\r\n",
    "soup = BeautifulSoup(r.text, 'lxml')"
   ],
   "outputs": [],
   "metadata": {}
  },
  {
   "cell_type": "code",
   "execution_count": 23,
   "source": [
    "article = soup.findAll('div', class_=\"artlist clearfix\")[0].findAll('a', target=\"_blank\")\r\n",
    "next_page = 'https://www.jb51.net' + soup.find('a', title=\"下页\")['href']\r\n",
    "print(next_page)\r\n",
    "for i in article:\r\n",
    "    # print('https://www.jb51.net' + i['href'] + '=' + i['title'])\r\n",
    "    print(i)\r\n"
   ],
   "outputs": [
    {
     "output_type": "stream",
     "name": "stdout",
     "text": [
      "https://www.jb51.net/list/list_88_2.htm\n",
      "<a href=\"/article/220914.htm\" target=\"_blank\" title=\"WindowsXP系统 CMD常用命令大全\">WindowsXP系统 CMD常用命令大全</a>\n",
      "<a href=\"/article/15337.htm\" target=\"_blank\" title=\"用vbs解决winxp 你是盗版软件的受害者提示\">用vbs解决winxp 你是盗版软件的受害者提示</a>\n",
      "<a href=\"/article/14430.htm\" target=\"_blank\" title=\"解决XP无法停止‘通用卷’的方法合集\">解决XP无法停止‘通用卷’的方法合集</a>\n",
      "<a href=\"/article/12797.htm\" target=\"_blank\" title=\"为你的Win XP瘦身的图文教程\">为你的Win XP瘦身的图文教程</a>\n",
      "<a href=\"/article/9677.htm\" target=\"_blank\" title=\"Windows XP最新应用技巧大荟萃\">Windows XP最新应用技巧大荟萃</a>\n",
      "<a href=\"/article/8761.htm\" target=\"_blank\" title=\"结合XP详解Vista系统配置排查故障图文教程\">结合XP详解Vista系统配置排查故障图文教程</a>\n",
      "<a href=\"/article/8758.htm\" target=\"_blank\" title=\"升级Windows XP五则技巧超值大放送\">升级Windows XP五则技巧超值大放送</a>\n",
      "<a href=\"/article/6907.htm\" target=\"_blank\" title=\"XP系统自动修复命令(sfc)详解\">XP系统自动修复命令(sfc)详解</a>\n",
      "<a href=\"/article/5793.htm\" target=\"_blank\" title=\"如何修复受损的Windows XP用户帐户很不错\">如何修复受损的Windows XP用户帐户很不错</a>\n",
      "<a href=\"/article/5192.htm\" target=\"_blank\" title=\"windows XP 的命令大全\">windows XP 的命令大全</a>\n",
      "<a href=\"/article/3133.htm\" target=\"_blank\" title=\"XP打印共享四大问题及解决方法\">XP打印共享四大问题及解决方法</a>\n",
      "<a href=\"/article/3132.htm\" target=\"_blank\" title=\"安装XP SP2的三大要领和八项注意\">安装XP SP2的三大要领和八项注意</a>\n",
      "<a href=\"/article/3131.htm\" target=\"_blank\" title=\"对Windows操作系统如何实现DDOS攻击\">对Windows操作系统如何实现DDOS攻击</a>\n",
      "<a href=\"/article/3130.htm\" target=\"_blank\" title=\"winbows优化大师应用三忌\">winbows优化大师应用三忌</a>\n",
      "<a href=\"/article/3129.htm\" target=\"_blank\" title=\"让你的Linux用起来跟Windows无异\">让你的Linux用起来跟Windows无异</a>\n",
      "<a href=\"/article/3128.htm\" target=\"_blank\" title=\"设备管理器经典技巧三则\">设备管理器经典技巧三则</a>\n",
      "<a href=\"/article/3127.htm\" target=\"_blank\" title=\"鼠标与“助手”的不解之缘\">鼠标与“助手”的不解之缘</a>\n",
      "<a href=\"/article/3126.htm\" target=\"_blank\" title=\"用“本地安全策略”保护系统安全\">用“本地安全策略”保护系统安全</a>\n",
      "<a href=\"/article/3125.htm\" target=\"_blank\" title=\"实用：IE浏览器精典技巧两则\">实用：IE浏览器精典技巧两则</a>\n",
      "<a href=\"/article/3124.htm\" target=\"_blank\" title=\"Windows系统组策略应用最新技巧\">Windows系统组策略应用最新技巧</a>\n",
      "<a href=\"/article/3123.htm\" target=\"_blank\" title=\"剖析Windows用1G内存还慢的原因\">剖析Windows用1G内存还慢的原因</a>\n",
      "<a href=\"/article/3122.htm\" target=\"_blank\" title=\"秘笈：将OEM XP变成零售正版XP\">秘笈：将OEM XP变成零售正版XP</a>\n",
      "<a href=\"/article/3121.htm\" target=\"_blank\" title=\"玩转Win XP系统内置语音输入软件\">玩转Win XP系统内置语音输入软件</a>\n",
      "<a href=\"/article/3120.htm\" target=\"_blank\" title=\"用好Regsvr32　解决系统疑难杂症\">用好Regsvr32　解决系统疑难杂症</a>\n",
      "<a href=\"/article/3119.htm\" target=\"_blank\" title=\"XP系统最强的启动提速技巧\">XP系统最强的启动提速技巧</a>\n",
      "<a href=\"/article/3118.htm\" target=\"_blank\" title=\"巧改注册表 实现Windows XP自动登录\">巧改注册表 实现Windows XP自动登录</a>\n",
      "<a href=\"/article/3117.htm\" target=\"_blank\" title=\"巧妙汉化Windows XP/2003的磁盘工具\">巧妙汉化Windows XP/2003的磁盘工具</a>\n",
      "<a href=\"/article/3116.htm\" target=\"_blank\" title=\"恢复系统用Win XP自带的“自动系统恢复”\">恢复系统用Win XP自带的“自动系统恢复”</a>\n",
      "<a href=\"/article/3115.htm\" target=\"_blank\" title=\"Win Vista操作系统安全性能剖析\">Win Vista操作系统安全性能剖析</a>\n",
      "<a href=\"/article/3114.htm\" target=\"_blank\" title=\"浪费者斩 七剑让系统彻底的减肥\">浪费者斩 七剑让系统彻底的减肥</a>\n",
      "<a href=\"/article/3113.htm\" target=\"_blank\" title=\"赶走讨厌的Windows自带“流氓文件夹”\">赶走讨厌的Windows自带“流氓文件夹”</a>\n",
      "<a href=\"/article/3112.htm\" target=\"_blank\" title=\"Windows98/2000安装与卸载技巧\">Windows98/2000安装与卸载技巧</a>\n",
      "<a href=\"/article/3111.htm\" target=\"_blank\" title=\"防范非法用户入侵Win 2000/XP系统七招\">防范非法用户入侵Win 2000/XP系统七招</a>\n",
      "<a href=\"/article/3110.htm\" target=\"_blank\" title=\"Windows XP系统最强的启动提速技巧\">Windows XP系统最强的启动提速技巧</a>\n",
      "<a href=\"/article/3109.htm\" target=\"_blank\" title=\"新手指南:大内存的崭新用途\">新手指南:大内存的崭新用途</a>\n",
      "<a href=\"/article/3108.htm\" target=\"_blank\" title=\"网管秘笈：封杀BT下载的七种武器\">网管秘笈：封杀BT下载的七种武器</a>\n",
      "<a href=\"/article/3107.htm\" target=\"_blank\" title=\"Win 2000/XP蓝屏解决实用技巧\">Win 2000/XP蓝屏解决实用技巧</a>\n",
      "<a href=\"/article/3106.htm\" target=\"_blank\" title=\"windows IE浏览器精典技巧两则\">windows IE浏览器精典技巧两则</a>\n",
      "<a href=\"/article/3105.htm\" target=\"_blank\" title=\"系统启动故障的十大原因及解决方法\">系统启动故障的十大原因及解决方法</a>\n",
      "<a href=\"/article/3104.htm\" target=\"_blank\" title=\"Windows XP SP2安装设置全攻略\">Windows XP SP2安装设置全攻略</a>\n"
     ]
    }
   ],
   "metadata": {}
  }
 ],
 "metadata": {
  "orig_nbformat": 4,
  "language_info": {
   "name": "python",
   "version": "3.9.6",
   "mimetype": "text/x-python",
   "codemirror_mode": {
    "name": "ipython",
    "version": 3
   },
   "pygments_lexer": "ipython3",
   "nbconvert_exporter": "python",
   "file_extension": ".py"
  },
  "kernelspec": {
   "name": "python3",
   "display_name": "Python 3.9.6 64-bit"
  },
  "interpreter": {
   "hash": "63fd5069d213b44bf678585dea6b12cceca9941eaf7f819626cde1f2670de90d"
  }
 },
 "nbformat": 4,
 "nbformat_minor": 2
}